{
 "cells": [
  {
   "cell_type": "markdown",
   "metadata": {},
   "source": [
    "# RL Course by David Silver\n",
    "## Lecture 8 : Integrating Learning and Planning\n",
    "Dyna-Q Algorithm\n",
    "<img src=\"Dyna-Q.png\" width=\"80%\"></img>\n",
    "Example: Dyna-Q on a Simple Maze\n",
    "<img src=\"SimpleMaze.png\"></img>"
   ]
  },
  {
   "cell_type": "code",
   "execution_count": 19,
   "metadata": {},
   "outputs": [],
   "source": [
    "%matplotlib inline\n",
    "import numpy as np\n",
    "import matplotlib as plt\n",
    "from random import randint"
   ]
  },
  {
   "cell_type": "code",
   "execution_count": 30,
   "metadata": {},
   "outputs": [],
   "source": [
    "class Grid:\n",
    "    '''One single grid in the maze.\n",
    "    '''\n",
    "    def __init__(self, isPassable = True, isTerminate = False, reward = 0):\n",
    "        self.__isPassable = isPassable\n",
    "        self.__isTerminate = isTerminate\n",
    "        self.__reward = reward\n",
    "    def toTuple(self):\n",
    "        return (self.__isPassable, self.__isTerminate, self.__reward)\n",
    "    \n",
    "class SimpleMaze:\n",
    "    '''Simple Maze game.\n",
    "    '''\n",
    "    def __init__(self, Map):\n",
    "        self.__map = Map\n",
    "        self.__map_width = Map.shape[1]\n",
    "        self.__map_height = Map.shape[0]\n",
    "        self.__actions = {\n",
    "        'e' : np.asarray([-1, 0]),\n",
    "        'w' : np.asarray([1, 0]),\n",
    "        'n' : np.asarray([0, -1]),\n",
    "        's' : np.asarray([0, 1])\n",
    "        }\n",
    "        \n",
    "    def __grid_at(self, position):\n",
    "        return self.__map[position[0], position[1]]\n",
    "    \n",
    "    def move(self, position, move_direction):\n",
    "        next_position = position + self.__actions[move_direction]\n",
    "        # horizontal boundary check\n",
    "        if (next_position[0] < 0 or next_position[0] >= self.__map_width):\n",
    "            next_position = position\n",
    "        # vertical boundary check\n",
    "        elif (next_position[1] < 0 or next_position[1] >= self.__map_height):\n",
    "            next_position = position\n",
    "        # barrier check\n",
    "        elif self.__grid_at(next_position)['isPassable'] == False:\n",
    "            next_position = position\n",
    "        reward = -1 + self.__grid_at(next_position)['reward']\n",
    "        return reward, next_position\n",
    "    \n",
    "    def isTerminate(self, position):\n",
    "        return self.__grid_at(position)['isTerminate'] == True"
   ]
  },
  {
   "cell_type": "code",
   "execution_count": 31,
   "metadata": {},
   "outputs": [],
   "source": [
    "alpha = 0.2\n",
    "gamma = 0.2\n",
    "MAZE_WIDTH = 9\n",
    "MAZE_HEIGHT = 6\n",
    "Terminate_Positions = ([0, 8],)\n",
    "Barrier_Positions = ([1, 2], [2, 2], [3, 2],\n",
    "                    [0, 7], [1, 7], [2, 7],\n",
    "                    [4,5])\n",
    "Start_Position = [3, 0]\n",
    "Directions = ('e', 'w', 'n', 's')\n",
    "normal_grid = Grid()\n",
    "barrier_grid = Grid(isPassable=False)\n",
    "terminate_grid = Grid(isTerminate=True)\n",
    "grid_type = np.dtype([\n",
    "    ('isPassable', 'b'),\n",
    "    ('isTerminate', 'b'),\n",
    "    ('reward', 'i1')\n",
    "])\n",
    "Map = np.zeros([MAZE_HEIGHT, MAZE_WIDTH], dtype=grid_type)\n",
    "Map.fill(normal_grid.toTuple())\n",
    "for pos in Terminate_Positions:\n",
    "    Map[pos[0], pos[1]] = terminate_grid.toTuple()\n",
    "for pos in Barrier_Positions:\n",
    "    Map[pos[0],pos[1]] = barrier_grid.toTuple()"
   ]
  },
  {
   "cell_type": "code",
   "execution_count": 39,
   "metadata": {},
   "outputs": [],
   "source": [
    "MazeGame = SimpleMaze(Map)\n",
    "Q = {} # Q(S, A) \n",
    "for x in range(Map.shape[0]):\n",
    "    for y in range(Map.shape[1]):\n",
    "        position = np.asarray([x,y]).tostring()\n",
    "        Q.setdefault(position,{})\n",
    "        for direction in Directions:\n",
    "            Q[position].setdefault(direction, 0)\n",
    "def greedy(Q, position):\n",
    "    actions = sorted(Q[position.tostring()].items(), key = lambda x:x[1], reverse= True)\n",
    "    if actions[0][1] == actions[3][1]:\n",
    "        direction = Directions[randint(0,3)]\n",
    "    else:\n",
    "        direction = actions[0][0]\n",
    "    return direction"
   ]
  },
  {
   "cell_type": "code",
   "execution_count": 41,
   "metadata": {},
   "outputs": [
    {
     "ename": "IndexError",
     "evalue": "index 6 is out of bounds for axis 0 with size 6",
     "output_type": "error",
     "traceback": [
      "\u001b[1;31m---------------------------------------------------------------------------\u001b[0m",
      "\u001b[1;31mIndexError\u001b[0m                                Traceback (most recent call last)",
      "\u001b[1;32m<ipython-input-41-bc8577df8a26>\u001b[0m in \u001b[0;36m<module>\u001b[1;34m()\u001b[0m\n\u001b[0;32m      6\u001b[0m     \u001b[0mmove_direction\u001b[0m \u001b[1;33m=\u001b[0m \u001b[0mgreedy\u001b[0m\u001b[1;33m(\u001b[0m\u001b[0mQ\u001b[0m\u001b[1;33m,\u001b[0m \u001b[0mposition\u001b[0m\u001b[1;33m)\u001b[0m\u001b[1;33m\u001b[0m\u001b[0m\n\u001b[0;32m      7\u001b[0m     \u001b[1;32mwhile\u001b[0m \u001b[1;32mTrue\u001b[0m\u001b[1;33m:\u001b[0m\u001b[1;33m\u001b[0m\u001b[0m\n\u001b[1;32m----> 8\u001b[1;33m         \u001b[0mreward\u001b[0m\u001b[1;33m,\u001b[0m \u001b[0mnext_position\u001b[0m \u001b[1;33m=\u001b[0m \u001b[0mMazeGame\u001b[0m\u001b[1;33m.\u001b[0m\u001b[0mmove\u001b[0m\u001b[1;33m(\u001b[0m\u001b[0mposition\u001b[0m\u001b[1;33m,\u001b[0m \u001b[0mmove_direction\u001b[0m\u001b[1;33m)\u001b[0m\u001b[1;33m\u001b[0m\u001b[0m\n\u001b[0m\u001b[0;32m      9\u001b[0m         \u001b[0mnext_direction\u001b[0m \u001b[1;33m=\u001b[0m \u001b[0mgreedy\u001b[0m\u001b[1;33m(\u001b[0m\u001b[0mQ\u001b[0m\u001b[1;33m,\u001b[0m \u001b[0mnext_position\u001b[0m\u001b[1;33m)\u001b[0m\u001b[1;33m\u001b[0m\u001b[0m\n\u001b[0;32m     10\u001b[0m         Q[position.tostring()][move_direction] += alpha * (reward + \n",
      "\u001b[1;32m<ipython-input-30-1c0ea4d15b45>\u001b[0m in \u001b[0;36mmove\u001b[1;34m(self, position, move_direction)\u001b[0m\n\u001b[0;32m     35\u001b[0m             \u001b[0mnext_position\u001b[0m \u001b[1;33m=\u001b[0m \u001b[0mposition\u001b[0m\u001b[1;33m\u001b[0m\u001b[0m\n\u001b[0;32m     36\u001b[0m         \u001b[1;31m# barrier check\u001b[0m\u001b[1;33m\u001b[0m\u001b[1;33m\u001b[0m\u001b[0m\n\u001b[1;32m---> 37\u001b[1;33m         \u001b[1;32melif\u001b[0m \u001b[0mself\u001b[0m\u001b[1;33m.\u001b[0m\u001b[0m__grid_at\u001b[0m\u001b[1;33m(\u001b[0m\u001b[0mnext_position\u001b[0m\u001b[1;33m)\u001b[0m\u001b[1;33m[\u001b[0m\u001b[1;34m'isPassable'\u001b[0m\u001b[1;33m]\u001b[0m \u001b[1;33m==\u001b[0m \u001b[1;32mFalse\u001b[0m\u001b[1;33m:\u001b[0m\u001b[1;33m\u001b[0m\u001b[0m\n\u001b[0m\u001b[0;32m     38\u001b[0m             \u001b[0mnext_position\u001b[0m \u001b[1;33m=\u001b[0m \u001b[0mposition\u001b[0m\u001b[1;33m\u001b[0m\u001b[0m\n\u001b[0;32m     39\u001b[0m         \u001b[0mreward\u001b[0m \u001b[1;33m=\u001b[0m \u001b[1;33m-\u001b[0m\u001b[1;36m1\u001b[0m \u001b[1;33m+\u001b[0m \u001b[0mself\u001b[0m\u001b[1;33m.\u001b[0m\u001b[0m__grid_at\u001b[0m\u001b[1;33m(\u001b[0m\u001b[0mnext_position\u001b[0m\u001b[1;33m)\u001b[0m\u001b[1;33m[\u001b[0m\u001b[1;34m'reward'\u001b[0m\u001b[1;33m]\u001b[0m\u001b[1;33m\u001b[0m\u001b[0m\n",
      "\u001b[1;32m<ipython-input-30-1c0ea4d15b45>\u001b[0m in \u001b[0;36m__grid_at\u001b[1;34m(self, position)\u001b[0m\n\u001b[0;32m     24\u001b[0m \u001b[1;33m\u001b[0m\u001b[0m\n\u001b[0;32m     25\u001b[0m     \u001b[1;32mdef\u001b[0m \u001b[0m__grid_at\u001b[0m\u001b[1;33m(\u001b[0m\u001b[0mself\u001b[0m\u001b[1;33m,\u001b[0m \u001b[0mposition\u001b[0m\u001b[1;33m)\u001b[0m\u001b[1;33m:\u001b[0m\u001b[1;33m\u001b[0m\u001b[0m\n\u001b[1;32m---> 26\u001b[1;33m         \u001b[1;32mreturn\u001b[0m \u001b[0mself\u001b[0m\u001b[1;33m.\u001b[0m\u001b[0m__map\u001b[0m\u001b[1;33m[\u001b[0m\u001b[0mposition\u001b[0m\u001b[1;33m[\u001b[0m\u001b[1;36m0\u001b[0m\u001b[1;33m]\u001b[0m\u001b[1;33m,\u001b[0m \u001b[0mposition\u001b[0m\u001b[1;33m[\u001b[0m\u001b[1;36m1\u001b[0m\u001b[1;33m]\u001b[0m\u001b[1;33m]\u001b[0m\u001b[1;33m\u001b[0m\u001b[0m\n\u001b[0m\u001b[0;32m     27\u001b[0m \u001b[1;33m\u001b[0m\u001b[0m\n\u001b[0;32m     28\u001b[0m     \u001b[1;32mdef\u001b[0m \u001b[0mmove\u001b[0m\u001b[1;33m(\u001b[0m\u001b[0mself\u001b[0m\u001b[1;33m,\u001b[0m \u001b[0mposition\u001b[0m\u001b[1;33m,\u001b[0m \u001b[0mmove_direction\u001b[0m\u001b[1;33m)\u001b[0m\u001b[1;33m:\u001b[0m\u001b[1;33m\u001b[0m\u001b[0m\n",
      "\u001b[1;31mIndexError\u001b[0m: index 6 is out of bounds for axis 0 with size 6"
     ]
    }
   ],
   "source": [
    "episode = 0\n",
    "steps = 0\n",
    "result = []\n",
    "while episode < 50:\n",
    "    position = np.asarray(Start_Position)\n",
    "    move_direction = greedy(Q, position)\n",
    "    while True:\n",
    "        reward, next_position = MazeGame.move(position, move_direction)\n",
    "        next_direction = greedy(Q, next_position)\n",
    "        Q[position.tostring()][move_direction] += alpha * (reward + \n",
    "                                                          gamma * Q[next_position.tostring()][next_direction]\n",
    "                                                          - Q[position.tostring()][move_direction])\n",
    "        position = next_position\n",
    "        move_direction = next_direction\n",
    "        if MazeGame.isTerminate(position) == True:\n",
    "            break\n",
    "        steps += 1\n",
    "    result[episode] = steps\n",
    "    episode += 1"
   ]
  },
  {
   "cell_type": "code",
   "execution_count": null,
   "metadata": {},
   "outputs": [],
   "source": []
  },
  {
   "cell_type": "code",
   "execution_count": null,
   "metadata": {},
   "outputs": [],
   "source": []
  }
 ],
 "metadata": {
  "kernelspec": {
   "display_name": "Python 3",
   "language": "python",
   "name": "python3"
  },
  "language_info": {
   "codemirror_mode": {
    "name": "ipython",
    "version": 3
   },
   "file_extension": ".py",
   "mimetype": "text/x-python",
   "name": "python",
   "nbconvert_exporter": "python",
   "pygments_lexer": "ipython3",
   "version": "3.7.0"
  }
 },
 "nbformat": 4,
 "nbformat_minor": 2
}
