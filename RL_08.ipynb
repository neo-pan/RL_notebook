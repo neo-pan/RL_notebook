{
 "cells": [
  {
   "cell_type": "markdown",
   "metadata": {},
   "source": [
    "# RL Course by David Silver\n",
    "\n",
    "## Lecture 8 : Integrating Learning and Planning\n",
    "\n",
    "Dyna-Q Algorithm\n",
    "<img src=\"img/Dyna-Q.png\" width=\"70%\"></img>\n",
    "Example: Dyna-Q on a Simple Maze\n",
    "<img src=\"img/SimpleMaze.png\"></img>"
   ]
  },
  {
   "cell_type": "code",
   "execution_count": 1,
   "metadata": {},
   "outputs": [],
   "source": [
    "%matplotlib inline\n",
    "import pdb\n",
    "import numpy as np\n",
    "from matplotlib import pyplot as plt\n",
    "from random import randint"
   ]
  },
  {
   "cell_type": "markdown",
   "metadata": {},
   "source": [
    "首先定义迷宫的格子`Grid`，它具有三个属性\n",
    "+ `isPassable` 表示格子是否允许通过\n",
    "+ `isTerminate` 表示该格子是否为终止状态\n",
    "+ `reward` 表示走到该格子上的即时奖励\n",
    "---\n",
    "之后用一个格子组成的二维数组构成迷宫`SimpleMaze`，这个类提供了两个方法\n",
    "+ `move()`接受一个状态 $S$ 和动作 $A$，返回即时奖励 $R$ 和下一个状态 $S'$\n",
    "+ `isTerminate()`接受一个状态，并判断其是否为终止状态"
   ]
  },
  {
   "cell_type": "code",
   "execution_count": 2,
   "metadata": {},
   "outputs": [],
   "source": [
    "class Grid:\n",
    "    '''One single grid in the maze.\n",
    "    '''\n",
    "    def __init__(self, isPassable = True, isTerminate = False, reward = 0):\n",
    "        self.__isPassable = isPassable\n",
    "        self.__isTerminate = isTerminate\n",
    "        self.__reward = reward\n",
    "    def toTuple(self):\n",
    "        return (self.__isPassable, self.__isTerminate, self.__reward)\n",
    "    \n",
    "class SimpleMaze:\n",
    "    '''Simple Maze game.\n",
    "    '''\n",
    "    __move = {\n",
    "        'n' : np.asarray([-1, 0]),\n",
    "        's' : np.asarray([1, 0]),\n",
    "        'w' : np.asarray([0, -1]),\n",
    "        'e' : np.asarray([0, 1])\n",
    "    }\n",
    "    directions = ('e', 'w', 'n', 's')\n",
    "    \n",
    "    def __init__(self, Map, start_position):\n",
    "        self.__map = Map.copy()\n",
    "        self.__map_width = Map.shape[1]\n",
    "        self.__map_height = Map.shape[0]\n",
    "        self.start_position = start_position\n",
    "    \n",
    "    def __grid_at(self, position):\n",
    "        return self.__map[position[0], position[1]]\n",
    "    \n",
    "    def move(self, position, move_direction):\n",
    "        next_position = position + SimpleMaze.__move[move_direction]\n",
    "        # horizontal boundary check\n",
    "        if (next_position[1] < 0 or next_position[1] >= self.__map_width):\n",
    "            next_position = position\n",
    "        # vertical boundary check\n",
    "        elif (next_position[0] < 0 or next_position[0] >= self.__map_height):\n",
    "            next_position = position\n",
    "        # barrier check\n",
    "        elif self.__grid_at(next_position)['isPassable'] == False:\n",
    "            next_position = position\n",
    "        reward = -1 + self.__grid_at(next_position)['reward']\n",
    "        return reward, next_position\n",
    "    \n",
    "    def isTerminate(self, position):\n",
    "        return self.__grid_at(position)['isTerminate'] == True\n",
    "    \n",
    "    def get_map_shape(self):\n",
    "        return self.__map_height, self.__map_width\n",
    "    \n",
    "class MDP_for_SimpleMaze:\n",
    "    '''MDP wrapper for Simple Maze game.\n",
    "    '''\n",
    "    def __init__(self, Map, start_position):\n",
    "        self.__game = SimpleMaze(Map, start_position)\n",
    "        self.state_space_shape = (self.__game.get_map_shape())\n",
    "        self.state_action_space_shape = (self.state_space_shape[0], self.state_space_shape[1], 4)\n",
    "        self.is_terminate = False\n",
    "        self.state = tuple(self.__game.start_position)\n",
    "        \n",
    "    def get_state(self):\n",
    "        return self.state\n",
    "    \n",
    "    def act(self, action):\n",
    "        '''Take actions in a MDP.\n",
    "        \n",
    "        Args:\n",
    "            action\n",
    "        Returns:\n",
    "            reward\n",
    "            next state\n",
    "        '''\n",
    "        position = np.asarray(self.state)\n",
    "        move_direction = self.__game.directions[action]\n",
    "        reward, next_position = self.__game.move(position, move_direction)\n",
    "        self.is_terminate = self.__game.isTerminate(position)\n",
    "        self.state = tuple(next_position)\n",
    "        return reward, self.state\n",
    "    \n",
    "    def restart(self):\n",
    "        self.is_terminate = False\n",
    "        self.state = tuple(self.__game.start_position)\n",
    "        "
   ]
  },
  {
   "cell_type": "markdown",
   "metadata": {},
   "source": [
    "在迷宫游戏上实现了SARSA算法\n",
    "\n",
    "`TODO:`Dyna-Q"
   ]
  },
  {
   "cell_type": "code",
   "execution_count": 3,
   "metadata": {},
   "outputs": [],
   "source": [
    "def greedy_policy(Q, state):\n",
    "    if Q[state].max() == Q[state].min():\n",
    "        action = np.random.randint(0,4)\n",
    "    else:\n",
    "        action = Q[state].argmax()\n",
    "    return action"
   ]
  },
  {
   "cell_type": "code",
   "execution_count": 4,
   "metadata": {},
   "outputs": [],
   "source": [
    "def SARSA(MDP, episodes, policy, alpha = 0.4, gamma = 0.2):\n",
    "    episode = 0\n",
    "    steps = 0\n",
    "    result = []\n",
    "    # initialize Q(S, A)\n",
    "    Q = np.zeros(MDP.state_action_space_shape)\n",
    "    # start iteration\n",
    "    while episode < episodes:\n",
    "        state = MDP.get_state()\n",
    "        action = policy(Q, state)\n",
    "        while not MDP.is_terminate:\n",
    "            reward, next_state = MDP.act(action)\n",
    "            next_action = policy(Q, next_state)\n",
    "            Q[state][action] += alpha * (reward + gamma * Q[next_state][next_action] - Q[state][action])\n",
    "            state = next_state\n",
    "            action = next_action\n",
    "            steps += 1\n",
    "        result.append(steps)\n",
    "        steps = 0\n",
    "        episode += 1\n",
    "        MDP.restart()\n",
    "    return result"
   ]
  },
  {
   "cell_type": "markdown",
   "metadata": {},
   "source": [
    "定义迷宫的大小、出口、障碍物等相关参数"
   ]
  },
  {
   "cell_type": "code",
   "execution_count": 5,
   "metadata": {},
   "outputs": [],
   "source": [
    "# parameters\n",
    "Maze_Width = 9\n",
    "Maze_Height = 6\n",
    "Terminate_Positions = ([0, 8],)\n",
    "Barrier_Positions = ([1, 2], [2, 2], [3, 2],\n",
    "                    [0, 7], [1, 7], [2, 7],\n",
    "                    [4,5])\n",
    "Start_Position = [3, 0]\n",
    "\n",
    "# initialize maze map\n",
    "normal_grid = Grid()\n",
    "barrier_grid = Grid(isPassable=False)\n",
    "terminate_grid = Grid(isTerminate=True)\n",
    "grid_type = np.dtype([\n",
    "    ('isPassable', 'b'),\n",
    "    ('isTerminate', 'b'),\n",
    "    ('reward', 'i1')\n",
    "])\n",
    "Map = np.zeros([Maze_Height, Maze_Width], dtype = grid_type)\n",
    "Map.fill(normal_grid.toTuple())\n",
    "for pos in Terminate_Positions:\n",
    "    Map[pos[0], pos[1]] = terminate_grid.toTuple()\n",
    "for pos in Barrier_Positions:\n",
    "    Map[pos[0],pos[1]] = barrier_grid.toTuple()\n"
   ]
  },
  {
   "cell_type": "code",
   "execution_count": 6,
   "metadata": {},
   "outputs": [
    {
     "data": {
      "text/plain": [
       "[<matplotlib.lines.Line2D at 0x1cc6e9382b0>]"
      ]
     },
     "execution_count": 6,
     "metadata": {},
     "output_type": "execute_result"
    },
    {
     "data": {
      "image/png": "[encoded data removed]",
      "text/plain": [
       "<Figure size 432x288 with 1 Axes>"
      ]
     },
     "metadata": {
      "needs_background": "light"
     },
     "output_type": "display_data"
    }
   ],
   "source": [
    "#pdb.set_trace()\n",
    "maze = MDP_for_SimpleMaze(Map, Start_Position)\n",
    "result = SARSA(maze, 100, greedy_policy)\n",
    "x = np.arange(0, 100)\n",
    "y = np.asarray(result)\n",
    "plt.plot(x, y)"
   ]
  },
  {
   "cell_type": "raw",
   "metadata": {},
   "source": []
  },
  {
   "cell_type": "code",
   "execution_count": null,
   "metadata": {},
   "outputs": [],
   "source": []
  },
  {
   "cell_type": "code",
   "execution_count": null,
   "metadata": {},
   "outputs": [],
   "source": []
  }
 ],
 "metadata": {
  "kernelspec": {
   "display_name": "Python 3",
   "language": "python",
   "name": "python3"
  },
  "language_info": {
   "codemirror_mode": {
    "name": "ipython",
    "version": 3
   },
   "file_extension": ".py",
   "mimetype": "text/x-python",
   "name": "python",
   "nbconvert_exporter": "python",
   "pygments_lexer": "ipython3",
   "version": "3.7.1"
  }
 },
 "nbformat": 4,
 "nbformat_minor": 2
}
