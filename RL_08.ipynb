{
 "cells": [
  {
   "cell_type": "markdown",
   "metadata": {},
   "source": [
    "# RL Course by David Silver\n",
    "\n",
    "## Lecture 8 : Integrating Learning and Planning\n",
    "\n",
    "Dyna-Q Algorithm\n",
    "<img src=\"img/Dyna-Q.png\" width=\"70%\"></img>\n",
    "Example: Dyna-Q on a Simple Maze\n",
    "<img src=\"img/SimpleMaze.png\"></img>"
   ]
  },
  {
   "cell_type": "code",
   "execution_count": 1,
   "metadata": {},
   "outputs": [],
   "source": [
    "%matplotlib inline\n",
    "import pdb\n",
    "import numpy as np\n",
    "from matplotlib import pyplot as plt\n",
    "from collections import defaultdict, deque, Counter\n",
    "from mpl_toolkits.mplot3d import Axes3D"
   ]
  },
  {
   "cell_type": "markdown",
   "metadata": {},
   "source": [
    "### 实现迷宫游戏环境\n",
    "首先定义迷宫的格子`Grid`，它具有三个属性\n",
    "+ `isPassable` 表示格子是否允许通过\n",
    "+ `isTerminate` 表示该格子是否为终止状态\n",
    "+ `reward` 表示走到该格子上的即时奖励\n",
    "---\n",
    "之后用一个格子组成的二维数组构成迷宫`SimpleMaze`，这个类提供了两个方法\n",
    "+ `move()`接受一个状态 $S$ 和动作 $A$，返回即时奖励 $R$ 和下一个状态 $S'$\n",
    "+ `isTerminate()`接受一个状态，并判断其是否为终止状态"
   ]
  },
  {
   "cell_type": "code",
   "execution_count": 2,
   "metadata": {
    "code_folding": [
     0,
     13,
     54
    ]
   },
   "outputs": [],
   "source": [
    "class Grid(object):\n",
    "    '''One single grid in the maze.\n",
    "    '''\n",
    "\n",
    "    def __init__(self, isPassable=True, isTerminate=False, reward=0):\n",
    "        self.__isPassable = isPassable\n",
    "        self.__isTerminate = isTerminate\n",
    "        self.__reward = reward\n",
    "\n",
    "    def toTuple(self):\n",
    "        return (self.__isPassable, self.__isTerminate, self.__reward)\n",
    "\n",
    "\n",
    "class SimpleMaze(object):\n",
    "    '''Simple Maze game.\n",
    "    '''\n",
    "    __move = {\n",
    "        'n': np.asarray([-1, 0]),\n",
    "        's': np.asarray([1, 0]),\n",
    "        'w': np.asarray([0, -1]),\n",
    "        'e': np.asarray([0, 1])\n",
    "    }\n",
    "    directions = ('e', 'w', 'n', 's')\n",
    "\n",
    "    def __init__(self, Map, start_position):\n",
    "        self.__map = Map.copy()\n",
    "        self.__map_width = Map.shape[1]\n",
    "        self.__map_height = Map.shape[0]\n",
    "        self.start_position = start_position\n",
    "\n",
    "    def __grid_at(self, position):\n",
    "        return self.__map[position[0], position[1]]\n",
    "\n",
    "    def move(self, position, move_direction):\n",
    "        next_position = position + SimpleMaze.__move[move_direction]\n",
    "        # horizontal boundary check\n",
    "        if (next_position[1] < 0 or next_position[1] >= self.__map_width):\n",
    "            next_position = position\n",
    "        # vertical boundary check\n",
    "        elif (next_position[0] < 0 or next_position[0] >= self.__map_height):\n",
    "            next_position = position\n",
    "        # barrier check\n",
    "        elif self.__grid_at(next_position)['isPassable'] == False:\n",
    "            next_position = position\n",
    "        reward = -1 + self.__grid_at(next_position)['reward']\n",
    "        return reward, next_position\n",
    "\n",
    "    def is_terminate(self, position):\n",
    "        return self.__grid_at(position)['isTerminate'] == True\n",
    "\n",
    "    def get_map_shape(self):\n",
    "        return self.__map_height, self.__map_width\n",
    "\n",
    "\n",
    "class MDP_for_SimpleMaze(object):\n",
    "    '''MDP wrapper for Simple Maze game.\n",
    "    '''\n",
    "\n",
    "    def __init__(self, Map, start_position):\n",
    "        self.__game = SimpleMaze(Map, start_position)\n",
    "        self.action_space_shape = 4\n",
    "        self.reset()\n",
    "\n",
    "    def get_state(self):\n",
    "        return self.state\n",
    "\n",
    "    def act(self, action):\n",
    "        '''Take actions in a MDP.\n",
    "        \n",
    "        Args:\n",
    "            action\n",
    "        Returns:\n",
    "            reward\n",
    "            next state\n",
    "        '''\n",
    "        position = np.asarray(self.state)\n",
    "        move_direction = self.__game.directions[action]\n",
    "        reward, next_position = self.__game.move(position, move_direction)\n",
    "        self.is_terminate = self.__game.is_terminate(next_position)\n",
    "        self.state = tuple(next_position)\n",
    "        return reward, self.state\n",
    "\n",
    "    def reset(self):\n",
    "        self.is_terminate = False\n",
    "        self.state = tuple(self.__game.start_position)\n",
    "        return self.state"
   ]
  },
  {
   "cell_type": "markdown",
   "metadata": {},
   "source": [
    "### 策略改进方法"
   ]
  },
  {
   "cell_type": "code",
   "execution_count": 3,
   "metadata": {
    "code_folding": [
     0,
     11
    ]
   },
   "outputs": [],
   "source": [
    "def improve_greedy_policy(Q):\n",
    "    def policy(state):\n",
    "        if Q[state].max() == Q[state].min():\n",
    "            action = np.random.randint(0, len(Q[state]))\n",
    "        else:\n",
    "            action = np.argmax(Q[state])\n",
    "        return action\n",
    "\n",
    "    return policy\n",
    "\n",
    "\n",
    "def improve_epsilon_greedy_policy(Q, epsilon):\n",
    "    p = np.random.uniform()\n",
    "    if p > epsilon:\n",
    "        return improve_greedy_policy(Q)\n",
    "    else:\n",
    "        return lambda s: np.random.randint(0, len(Q[s]))"
   ]
  },
  {
   "cell_type": "markdown",
   "metadata": {},
   "source": [
    "### 实现Sarsa算法"
   ]
  },
  {
   "cell_type": "code",
   "execution_count": 4,
   "metadata": {
    "code_folding": [
     0
    ]
   },
   "outputs": [],
   "source": [
    "def Sarsa(MDP, episodes, alpha=0.1, gamma=0.5, epsilon=0.05):\n",
    "    episode = 0\n",
    "    steps = 0\n",
    "    convergence = []\n",
    "    # initialize Q(S, A)\n",
    "    Q = defaultdict(lambda: np.zeros(MDP.action_space_shape))\n",
    "    # start iteration\n",
    "    while episode < episodes:\n",
    "        state = MDP.reset()\n",
    "        policy = improve_greedy_policy(Q)\n",
    "        action = policy(state)\n",
    "        while not MDP.is_terminate:\n",
    "            reward, next_state = MDP.act(action)\n",
    "            next_action = policy(next_state)\n",
    "            Q[state][action] += alpha * (\n",
    "                reward + gamma * Q[next_state][next_action] - Q[state][action])\n",
    "            state = next_state\n",
    "            action = next_action\n",
    "            steps += 1\n",
    "        convergence.append(steps)\n",
    "        steps = 0\n",
    "        episode += 1\n",
    "    return convergence, Q"
   ]
  },
  {
   "cell_type": "markdown",
   "metadata": {},
   "source": [
    "### 实现Dyna-Q算法"
   ]
  },
  {
   "cell_type": "code",
   "execution_count": 5,
   "metadata": {
    "code_folding": [
     0
    ]
   },
   "outputs": [],
   "source": [
    "class MDP_model(object):\n",
    "    '''A model of MDP to be learned from real experience.\n",
    "    '''\n",
    "\n",
    "    def __init__(self):\n",
    "        self._transitions = defaultdict(lambda: defaultdict(\n",
    "            lambda: defaultdict(float)))\n",
    "        self._rewards = defaultdict(lambda: defaultdict(float))\n",
    "        self._visit_counter = defaultdict(Counter)\n",
    "\n",
    "    def learn(self, state, action, next_state, reward):\n",
    "        \"\"\"Learn transition probabilities and rewards from a MDP.\n",
    "        \n",
    "        Args:\n",
    "            state\n",
    "            action\n",
    "            next_state\n",
    "            reward\n",
    "        \"\"\"\n",
    "        self._visit_counter[state][action] += 1\n",
    "        self._rewards[state][action] += (reward - self._rewards[state][action]\n",
    "                                         ) / self._visit_counter[state][action]\n",
    "\n",
    "        for k in self._transitions[state][action]:\n",
    "            self._transitions[state][action][\n",
    "                k] *= 1 - 1 / self._visit_counter[state][action]\n",
    "        self._transitions[state][action][\n",
    "            next_state] += 1 / self._visit_counter[state][action]\n",
    "\n",
    "    def generate(self, state, action):\n",
    "        \"\"\"Generate next state and reward according to learned model.\n",
    "        \n",
    "        Args:\n",
    "            state\n",
    "            action\n",
    "            \n",
    "        Returns:\n",
    "            next_state\n",
    "            reward\n",
    "        \"\"\"\n",
    "        prob = np.random.uniform()\n",
    "        for k, v in self._transitions[state][action].items():\n",
    "            if prob - v < 0:\n",
    "                next_state = k\n",
    "            else:\n",
    "                prob -= v\n",
    "        return next_state, self._rewards[state][action]"
   ]
  },
  {
   "cell_type": "code",
   "execution_count": 6,
   "metadata": {
    "code_folding": [
     0
    ]
   },
   "outputs": [],
   "source": [
    "def Dyna_Q(MDP, episodes, planning_steps, alpha=0.1, gamma=0.5, epsilon=0.05):\n",
    "    episode = 0\n",
    "    planning_step = 0\n",
    "    steps = 0\n",
    "    convergence = list()\n",
    "    # initialize Q(S,A) and Model(S,A)\n",
    "    Q = defaultdict(lambda: np.zeros(MDP.action_space_shape))\n",
    "    model = MDP_model()\n",
    "    while episode < episodes:\n",
    "        state = MDP.reset()\n",
    "        memory = list()\n",
    "        while not MDP.is_terminate:\n",
    "            policy = improve_greedy_policy(Q)\n",
    "            action = policy(state)\n",
    "            memory.append((state, action))\n",
    "            reward, next_state = MDP.act(action)\n",
    "            Q[state][action] += alpha * (\n",
    "                reward + gamma * Q[next_state].max() - Q[state][action])\n",
    "            model.learn(state, action, next_state, reward)\n",
    "            state = next_state\n",
    "            # planning with model\n",
    "            while planning_step < planning_steps:\n",
    "                p_state, p_action = memory[np.random.randint(0, len(memory))]\n",
    "                p_next_state, p_reward = model.generate(p_state, p_action)\n",
    "                Q[p_state][p_action] += alpha * (\n",
    "                    reward + gamma * Q[p_next_state].max() -\n",
    "                    Q[p_state][p_action])\n",
    "                planning_step += 1\n",
    "            planning_step = 0\n",
    "            steps += 1\n",
    "        convergence.append(steps)\n",
    "        steps = 0\n",
    "        episode += 1\n",
    "    return convergence, Q"
   ]
  },
  {
   "cell_type": "code",
   "execution_count": 7,
   "metadata": {
    "code_folding": [
     0,
     16
    ]
   },
   "outputs": [],
   "source": [
    "def plot_convergence(convergence, title, fig=None):\n",
    "    if fig == None:\n",
    "        fig = plt.figure(figsize=(8, 6))\n",
    "        fig.clear()\n",
    "        ax = fig.add_subplot(111)\n",
    "    else:\n",
    "        ax = fig.add_subplot(121)\n",
    "    x = np.arange(0, len(convergence))\n",
    "    y = np.asarray(convergence)\n",
    "    ax.plot(x, y)\n",
    "    ax.set_xlabel(\"Num of episodes\")\n",
    "    ax.set_ylabel(\"Steps per episode\")\n",
    "    ax.set_title(\"Convergence\")\n",
    "    fig.suptitle(title)\n",
    "\n",
    "\n",
    "def plot_result(convergence, Q, title):\n",
    "    fig = plt.figure(figsize=(14, 9))\n",
    "    fig.clear()\n",
    "    plot_convergence(convergence, title, fig)\n",
    "    V = defaultdict(float)\n",
    "    for k in Q:\n",
    "        V[k] = Q[k].max()\n",
    "    max_x = max(k[0] for k in Q)\n",
    "    min_x = min(k[0] for k in Q)\n",
    "    max_y = max(k[1] for k in Q)\n",
    "    min_y = min(k[1] for k in Q)\n",
    "    X = np.arange(min_x, max_x + 1)\n",
    "    Y = np.arange(min_y, max_y + 1)\n",
    "    X, Y = np.meshgrid(X, Y)\n",
    "    Z = np.apply_along_axis(lambda _: V[(_[0], _[1])], 2, np.dstack([X, Y]))\n",
    "    ax = fig.add_subplot(122, projection='3d')\n",
    "    ax.plot_surface(X, Y, Z, rstride=1, cstride=1, cmap=\"viridis\")\n",
    "    ax.set_xlabel(\"X axis of maze\")\n",
    "    ax.set_ylabel(\"Y axis of maze\")\n",
    "    ax.set_zlabel(\"Values\")\n",
    "    ax.set_title(\"Maze Grid Values\")"
   ]
  },
  {
   "cell_type": "markdown",
   "metadata": {},
   "source": [
    "### 定义迷宫的大小、出口、障碍物等相关参数"
   ]
  },
  {
   "cell_type": "code",
   "execution_count": 8,
   "metadata": {
    "code_folding": [
     0
    ]
   },
   "outputs": [],
   "source": [
    "# parameters\n",
    "Maze_Width = 9\n",
    "Maze_Height = 6\n",
    "Terminate_Positions = ([0, 8], )\n",
    "Barrier_Positions = ([1, 2], [2, 2], [3, 2], [0, 7], [1, 7], [2, 7], [4, 5])\n",
    "Start_Position = [3, 0]\n",
    "\n",
    "# initialize maze map\n",
    "normal_grid = Grid()\n",
    "barrier_grid = Grid(isPassable=False)\n",
    "terminate_grid = Grid(isTerminate=True, reward=0)\n",
    "grid_type = np.dtype([('isPassable', 'b'), ('isTerminate', 'b'),\n",
    "                      ('reward', 'i1')])\n",
    "Map = np.zeros([Maze_Height, Maze_Width], dtype=grid_type)\n",
    "Map.fill(normal_grid.toTuple())\n",
    "for pos in Terminate_Positions:\n",
    "    Map[pos[0], pos[1]] = terminate_grid.toTuple()\n",
    "for pos in Barrier_Positions:\n",
    "    Map[pos[0], pos[1]] = barrier_grid.toTuple()"
   ]
  },
  {
   "cell_type": "code",
   "execution_count": 9,
   "metadata": {
    "code_folding": []
   },
   "outputs": [],
   "source": [
    "alpha = 0.3\n",
    "maze = MDP_for_SimpleMaze(Map, Start_Position)"
   ]
  },
  {
   "cell_type": "code",
   "execution_count": 10,
   "metadata": {
    "code_folding": []
   },
   "outputs": [],
   "source": [
    "convergence_0, Q_0 = Sarsa(MDP=maze, episodes=100, alpha=alpha)"
   ]
  },
  {
   "cell_type": "code",
   "execution_count": 11,
   "metadata": {
    "code_folding": []
   },
   "outputs": [],
   "source": [
    "convergence_1, Q_1 = Dyna_Q(MDP=maze, episodes=100, planning_steps=5, alpha=alpha)"
   ]
  },
  {
   "cell_type": "code",
   "execution_count": 12,
   "metadata": {
    "code_folding": []
   },
   "outputs": [],
   "source": [
    "convergence_2, Q_2 = Dyna_Q(MDP=maze, episodes=100, planning_steps=50, alpha=alpha)"
   ]
  },
  {
   "cell_type": "code",
   "execution_count": 13,
   "metadata": {},
   "outputs": [
    {
     "data": {
      "image/png": "[encoded data removed]",
      "text/plain": [
       "<Figure size 576x432 with 1 Axes>"
      ]
     },
     "metadata": {
      "needs_background": "light"
     },
     "output_type": "display_data"
    },
    {
     "data": {
      "image/png": "[encoded data removed]",
      "text/plain": [
       "<Figure size 576x432 with 1 Axes>"
      ]
     },
     "metadata": {
      "needs_background": "light"
     },
     "output_type": "display_data"
    },
    {
     "data": {
      "image/png": "[encoded data removed]",
      "text/plain": [
       "<Figure size 576x432 with 1 Axes>"
      ]
     },
     "metadata": {
      "needs_background": "light"
     },
     "output_type": "display_data"
    }
   ],
   "source": [
    "plot_convergence(convergence_0, \"Sarsa\")\n",
    "plot_convergence(convergence_1, \"Dyna-Q 5\")\n",
    "plot_convergence(convergence_2, \"Dyna-Q 50\")"
   ]
  },
  {
   "cell_type": "code",
   "execution_count": null,
   "metadata": {
    "scrolled": false
   },
   "outputs": [],
   "source": []
  },
  {
   "cell_type": "code",
   "execution_count": null,
   "metadata": {},
   "outputs": [],
   "source": []
  }
 ],
 "metadata": {
  "kernelspec": {
   "display_name": "Python 3",
   "language": "python",
   "name": "python3"
  },
  "language_info": {
   "codemirror_mode": {
    "name": "ipython",
    "version": 3
   },
   "file_extension": ".py",
   "mimetype": "text/x-python",
   "name": "python",
   "nbconvert_exporter": "python",
   "pygments_lexer": "ipython3",
   "version": "3.7.3"
  },
  "varInspector": {
   "cols": {
    "lenName": 16,
    "lenType": 16,
    "lenVar": 40
   },
   "kernels_config": {
    "python": {
     "delete_cmd_postfix": "",
     "delete_cmd_prefix": "del ",
     "library": "var_list.py",
     "varRefreshCmd": "print(var_dic_list())"
    },
    "r": {
     "delete_cmd_postfix": ") ",
     "delete_cmd_prefix": "rm(",
     "library": "var_list.r",
     "varRefreshCmd": "cat(var_dic_list()) "
    }
   },
   "types_to_exclude": [
    "module",
    "function",
    "builtin_function_or_method",
    "instance",
    "_Feature"
   ],
   "window_display": false
  }
 },
 "nbformat": 4,
 "nbformat_minor": 2
}
